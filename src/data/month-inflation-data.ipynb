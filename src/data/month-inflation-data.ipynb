{
 "cells": [
  {
   "cell_type": "code",
   "execution_count": 103,
   "id": "e6f045a8",
   "metadata": {},
   "outputs": [],
   "source": [
    "import numpy as np\n",
    "import pandas as pd\n",
    "import random"
   ]
  },
  {
   "cell_type": "code",
   "execution_count": 104,
   "id": "56e35aeb",
   "metadata": {},
   "outputs": [],
   "source": [
    "npData = np.array([['', '']]) \n",
    "MAX_MONTHS = 240\n",
    "sumInflation = 0\n",
    "\n",
    "for i in range(1, MAX_MONTHS+1):\n",
    "    sumInflation += random.uniform(-0.72, 0.98)\n",
    "    npData = np.append(npData, np.array([[i, sumInflation]]), axis = 0)\n",
    "    \n",
    "npData = npData[1:]"
   ]
  },
  {
   "cell_type": "code",
   "execution_count": 105,
   "id": "1668238b",
   "metadata": {},
   "outputs": [
    {
     "name": "stdout",
     "output_type": "stream",
     "text": [
      "Data exported\n"
     ]
    }
   ],
   "source": [
    "inflationPd = pd.DataFrame(npData, columns = [\n",
    "    \"Months\", \n",
    "    \"Inflation Rate\"\n",
    "])\n",
    "\n",
    "inflationPd.to_csv('../../datasets/csv/inflation-data.csv')\n",
    "print('Data exported')"
   ]
  },
  {
   "cell_type": "code",
   "execution_count": null,
   "id": "7a2447e9",
   "metadata": {},
   "outputs": [],
   "source": []
  }
 ],
 "metadata": {
  "kernelspec": {
   "display_name": "Python 3 (ipykernel)",
   "language": "python",
   "name": "python3"
  },
  "language_info": {
   "codemirror_mode": {
    "name": "ipython",
    "version": 3
   },
   "file_extension": ".py",
   "mimetype": "text/x-python",
   "name": "python",
   "nbconvert_exporter": "python",
   "pygments_lexer": "ipython3",
   "version": "3.9.7"
  }
 },
 "nbformat": 4,
 "nbformat_minor": 5
}
