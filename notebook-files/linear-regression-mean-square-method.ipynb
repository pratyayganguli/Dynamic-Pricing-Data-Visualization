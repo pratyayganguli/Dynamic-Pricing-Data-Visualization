{
 "cells": [
  {
   "cell_type": "code",
   "execution_count": 79,
   "id": "9c4bbeb3",
   "metadata": {},
   "outputs": [],
   "source": [
    "import numpy as np\n",
    "import pandas as pd\n",
    "import matplotlib.pyplot as plt"
   ]
  },
  {
   "cell_type": "code",
   "execution_count": 77,
   "id": "3a433de1",
   "metadata": {},
   "outputs": [
    {
     "data": {
      "image/png": "[encoded data removed]",
      "text/plain": [
       "<Figure size 432x288 with 1 Axes>"
      ]
     },
     "metadata": {
      "needs_background": "light"
     },
     "output_type": "display_data"
    },
    {
     "data": {
      "image/png": "[encoded data removed]",
      "text/plain": [
       "<Figure size 432x288 with 1 Axes>"
      ]
     },
     "metadata": {
      "needs_background": "light"
     },
     "output_type": "display_data"
    }
   ],
   "source": [
    "age = np.array([18, 19, 20, 21, 22, 23, 24, 25])\n",
    "expenditure = np.array([2102, 2167, 3213, 3358, 3510, 3762, 4000, 5000])\n",
    "plt.plot(age, expenditure, 'ro')\n",
    "plt.show()\n",
    "plt.plot(age, expenditure)\n",
    "plt.xlabel('Age')\n",
    "plt.ylabel('Expenditure in Rupees')\n",
    "plt.show()"
   ]
  },
  {
   "cell_type": "code",
   "execution_count": 78,
   "id": "886c9448",
   "metadata": {},
   "outputs": [],
   "source": [
    "ageMean = np.mean(age)\n",
    "expenditureMean = np.mean(expenditure)"
   ]
  },
  {
   "cell_type": "code",
   "execution_count": 70,
   "id": "11949188",
   "metadata": {},
   "outputs": [
    {
     "data": {
      "text/plain": [
       "15625.0"
      ]
     },
     "execution_count": 70,
     "metadata": {},
     "output_type": "execute_result"
    }
   ],
   "source": [
    "sum1 = 0\n",
    "for i in range(0, len(age)):\n",
    "     sum1 = sum1 + (age[i]-ageMean)*(expenditure[i]-expenditureMean)\n",
    "sum1"
   ]
  },
  {
   "cell_type": "code",
   "execution_count": 71,
   "id": "edd42331",
   "metadata": {},
   "outputs": [
    {
     "data": {
      "text/plain": [
       "42.0"
      ]
     },
     "execution_count": 71,
     "metadata": {},
     "output_type": "execute_result"
    }
   ],
   "source": [
    "sum2 = 0\n",
    "for i in range(0, len(age)):\n",
    "     sum2 = sum2 + pow((age[i]-ageMean), 2)\n",
    "sum2"
   ]
  },
  {
   "cell_type": "code",
   "execution_count": 74,
   "id": "23460bdb",
   "metadata": {},
   "outputs": [
    {
     "data": {
      "text/plain": [
       "-4609.511904761905"
      ]
     },
     "execution_count": 74,
     "metadata": {},
     "output_type": "execute_result"
    }
   ],
   "source": [
    "m = sum1/sum2\n",
    "c = expenditureMean - ageMean*m \n",
    "c"
   ]
  },
  {
   "cell_type": "markdown",
   "id": "8e9b0ea8",
   "metadata": {},
   "source": [
    "Predictive values of Expenditure"
   ]
  },
  {
   "cell_type": "code",
   "execution_count": 75,
   "id": "547d11ba",
   "metadata": {},
   "outputs": [
    {
     "name": "stdout",
     "output_type": "stream",
     "text": [
      "5063.107142857143\n",
      "5435.130952380952\n",
      "3947.0357142857138\n",
      "2830.9642857142862\n"
     ]
    }
   ],
   "source": [
    "x = np.array([26, 27, 23, 20])\n",
    "    \n",
    "for i in range(0, len(x)):\n",
    "    print(m*x[i] + c)"
   ]
  },
  {
   "cell_type": "code",
   "execution_count": null,
   "id": "80897f98",
   "metadata": {},
   "outputs": [],
   "source": []
  }
 ],
 "metadata": {
  "kernelspec": {
   "display_name": "Python 3 (ipykernel)",
   "language": "python",
   "name": "python3"
  },
  "language_info": {
   "codemirror_mode": {
    "name": "ipython",
    "version": 3
   },
   "file_extension": ".py",
   "mimetype": "text/x-python",
   "name": "python",
   "nbconvert_exporter": "python",
   "pygments_lexer": "ipython3",
   "version": "3.9.7"
  }
 },
 "nbformat": 4,
 "nbformat_minor": 5
}
