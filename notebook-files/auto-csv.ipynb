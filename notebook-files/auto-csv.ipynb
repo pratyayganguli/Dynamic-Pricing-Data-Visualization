{
 "cells": [
  {
   "cell_type": "code",
   "execution_count": null,
   "id": "f5137863",
   "metadata": {},
   "outputs": [],
   "source": [
    "import numpy as np\n",
    "import random\n",
    "import time\n",
    "import csv\n",
    "from IPython.display import clear_output"
   ]
  },
  {
   "cell_type": "code",
   "execution_count": null,
   "id": "4310653e",
   "metadata": {},
   "outputs": [],
   "source": [
    "data = np.array([time.ctime(time.time()).split(' ')])\n",
    "rows = 0\n",
    "file = open('../datasets/csv/sample-data.csv', 'w')\n",
    "    \n",
    "while rows<500:\n",
    "    data = np.append(data, np.array([time.ctime(time.time()).split(' ')]), axis=0)\n",
    "    time.sleep(random.randrange(1, 7))\n",
    "    clear_output(wait=True)\n",
    "    writer = csv.writer(file)\n",
    "    writer.writerow(data[rows])\n",
    "    rows += 1\n",
    "    print(\"{0}/500 done\".format(rows))\n",
    "    \n",
    "file.close()\n",
    "print('File Exported')"
   ]
  },
  {
   "cell_type": "code",
   "execution_count": null,
   "id": "321051dc",
   "metadata": {},
   "outputs": [],
   "source": []
  },
  {
   "cell_type": "code",
   "execution_count": null,
   "id": "eb0a5d6e",
   "metadata": {},
   "outputs": [],
   "source": [
    "    "
   ]
  },
  {
   "cell_type": "code",
   "execution_count": null,
   "id": "5e2870aa",
   "metadata": {},
   "outputs": [],
   "source": []
  }
 ],
 "metadata": {
  "kernelspec": {
   "display_name": "Python 3 (ipykernel)",
   "language": "python",
   "name": "python3"
  },
  "language_info": {
   "codemirror_mode": {
    "name": "ipython",
    "version": 3
   },
   "file_extension": ".py",
   "mimetype": "text/x-python",
   "name": "python",
   "nbconvert_exporter": "python",
   "pygments_lexer": "ipython3",
   "version": "3.9.7"
  }
 },
 "nbformat": 4,
 "nbformat_minor": 5
}
