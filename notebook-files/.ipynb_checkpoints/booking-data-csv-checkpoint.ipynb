{
 "cells": [
  {
   "cell_type": "markdown",
   "id": "3cc78bfe",
   "metadata": {},
   "source": [
    "### Importing the Libraries ###"
   ]
  },
  {
   "cell_type": "code",
   "execution_count": 2,
   "id": "338974be",
   "metadata": {},
   "outputs": [],
   "source": [
    "import numpy as np\n",
    "import random\n",
    "import time\n",
    "import csv\n",
    "import os\n",
    "import pandas as pd\n",
    "import matplotlib.pyplot as plt\n",
    "\n",
    "from IPython.display import clear_output"
   ]
  },
  {
   "cell_type": "code",
   "execution_count": 32,
   "id": "1b1f9315",
   "metadata": {},
   "outputs": [
    {
     "data": {
      "text/plain": [
       "<AxesSubplot:xlabel='Months', ylabel='Bookings'>"
      ]
     },
     "execution_count": 32,
     "metadata": {},
     "output_type": "execute_result"
    },
    {
     "data": {
      "image/png": "[encoded data removed]",
      "text/plain": [
       "<Figure size 432x288 with 1 Axes>"
      ]
     },
     "metadata": {
      "needs_background": "light"
     },
     "output_type": "display_data"
    }
   ],
   "source": [
    "monthlyData = np.array([[0, 0, 0, 0, 0, 0]])\n",
    "month = 0\n",
    "MAX_MONTH = 12\n",
    "    \n",
    "csvFile = open('../datasets/csv/monthly-booking-data.csv', 'w')\n",
    "\n",
    "while month < 12:\n",
    "    writer = csv.writer(csvFile)\n",
    "    monthlyData = np.append(monthlyData, np.array([[\n",
    "                    random.randint(100, 200),\n",
    "                    random.randint(300, 500),\n",
    "                    random.randint(400, 600),\n",
    "                    random.randint(100, 200),\n",
    "                    random.randint(300, 500),\n",
    "                    random.randint(400, 600)\n",
    "                ]]), axis = 0)\n",
    "    month+=1\n",
    "    writer.writerow(monthlyData[month])\n",
    "csvFile.close()\n",
    "\n",
    "\n",
    "dailyDataFrame = pd.DataFrame(monthlyData, columns = [\n",
    "    '08:00-10:00',\n",
    "    '10:00-12:00',\n",
    "    '12:00-14:00',\n",
    "    '14:00-16:00',\n",
    "    '16:00-18:00',\n",
    "    '18:00-20:00'\n",
    "])\n",
    "\n",
    "dailyDataFrame.plot(kind = 'bar', xlabel = 'Months', ylabel = 'Bookings')"
   ]
  },
  {
   "cell_type": "code",
   "execution_count": null,
   "id": "4310653e",
   "metadata": {},
   "outputs": [],
   "source": [
    "MONTHS = 12\n",
    "\n",
    "data = np.array([[100, 220, 122, 119, 23,43]])\n",
    "data = np.append(data, np.array([[100, 130, 80, 45, 23, 34]]), axis = 0)\n",
    "df = pd.DataFrame(\n",
    "                data,\n",
    "                columns = ['08:00 - 10:00', '10:00 - 12:00', '12:00 - 14:00', '14:00-16:00', '16:00-18:00', '18:00-20:00']\n",
    ")\n",
    "                \n",
    "\n",
    "df.plot(kind = 'bar', xlabel = 'Months', ylabel = 'Bookings')"
   ]
  },
  {
   "cell_type": "code",
   "execution_count": null,
   "id": "321051dc",
   "metadata": {},
   "outputs": [],
   "source": []
  },
  {
   "cell_type": "code",
   "execution_count": null,
   "id": "eb0a5d6e",
   "metadata": {},
   "outputs": [],
   "source": []
  },
  {
   "cell_type": "code",
   "execution_count": null,
   "id": "5e2870aa",
   "metadata": {},
   "outputs": [],
   "source": []
  }
 ],
 "metadata": {
  "kernelspec": {
   "display_name": "Python 3 (ipykernel)",
   "language": "python",
   "name": "python3"
  },
  "language_info": {
   "codemirror_mode": {
    "name": "ipython",
    "version": 3
   },
   "file_extension": ".py",
   "mimetype": "text/x-python",
   "name": "python",
   "nbconvert_exporter": "python",
   "pygments_lexer": "ipython3",
   "version": "3.9.7"
  }
 },
 "nbformat": 4,
 "nbformat_minor": 5
}
