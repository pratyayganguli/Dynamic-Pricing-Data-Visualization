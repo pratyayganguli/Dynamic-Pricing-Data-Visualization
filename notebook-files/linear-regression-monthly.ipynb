{
 "cells": [
  {
   "cell_type": "markdown",
   "id": "239fb98d",
   "metadata": {},
   "source": [
    "### Importing Libraries ###"
   ]
  },
  {
   "cell_type": "code",
   "execution_count": 137,
   "id": "26566482",
   "metadata": {},
   "outputs": [],
   "source": [
    "import numpy as np\n",
    "import pandas as pd\n",
    "import matplotlib.pyplot as plt\n",
    "import csv"
   ]
  },
  {
   "cell_type": "markdown",
   "id": "560425d6",
   "metadata": {},
   "source": [
    "### Importing the dataset ###"
   ]
  },
  {
   "cell_type": "code",
   "execution_count": 138,
   "id": "9145c651",
   "metadata": {},
   "outputs": [
    {
     "data": {
      "text/html": [
       "<div>\n",
       "<style scoped>\n",
       "    .dataframe tbody tr th:only-of-type {\n",
       "        vertical-align: middle;\n",
       "    }\n",
       "\n",
       "    .dataframe tbody tr th {\n",
       "        vertical-align: top;\n",
       "    }\n",
       "\n",
       "    .dataframe thead th {\n",
       "        text-align: right;\n",
       "    }\n",
       "</style>\n",
       "<table border=\"1\" class=\"dataframe\">\n",
       "  <thead>\n",
       "    <tr style=\"text-align: right;\">\n",
       "      <th></th>\n",
       "      <th>HH</th>\n",
       "      <th>MM</th>\n",
       "      <th>Car Model</th>\n",
       "      <th>Distance</th>\n",
       "    </tr>\n",
       "  </thead>\n",
       "  <tbody>\n",
       "    <tr>\n",
       "      <th>0</th>\n",
       "      <td>18.0</td>\n",
       "      <td>22.0</td>\n",
       "      <td>Wagonr</td>\n",
       "      <td>205.0</td>\n",
       "    </tr>\n",
       "    <tr>\n",
       "      <th>1</th>\n",
       "      <td>13.0</td>\n",
       "      <td>50.0</td>\n",
       "      <td>Wagonr</td>\n",
       "      <td>181.0</td>\n",
       "    </tr>\n",
       "    <tr>\n",
       "      <th>2</th>\n",
       "      <td>20.0</td>\n",
       "      <td>25.0</td>\n",
       "      <td>Swift</td>\n",
       "      <td>209.0</td>\n",
       "    </tr>\n",
       "    <tr>\n",
       "      <th>3</th>\n",
       "      <td>15.0</td>\n",
       "      <td>13.0</td>\n",
       "      <td>Baleno</td>\n",
       "      <td>197.0</td>\n",
       "    </tr>\n",
       "    <tr>\n",
       "      <th>4</th>\n",
       "      <td>20.0</td>\n",
       "      <td>54.0</td>\n",
       "      <td>Dzire</td>\n",
       "      <td>204.0</td>\n",
       "    </tr>\n",
       "  </tbody>\n",
       "</table>\n",
       "</div>"
      ],
      "text/plain": [
       "     HH    MM Car Model  Distance\n",
       "0  18.0  22.0    Wagonr     205.0\n",
       "1  13.0  50.0    Wagonr     181.0\n",
       "2  20.0  25.0     Swift     209.0\n",
       "3  15.0  13.0    Baleno     197.0\n",
       "4  20.0  54.0     Dzire     204.0"
      ]
     },
     "execution_count": 138,
     "metadata": {},
     "output_type": "execute_result"
    }
   ],
   "source": [
    "file = open('../datasets/csv/data-monthly.csv', 'r')\n",
    "data = pd.read_csv(file)\n",
    "file.close()\n",
    "data = data.drop(data.columns[0], axis = 1)\n",
    "# data = data.iloc[:30]\n",
    "data.head()"
   ]
  },
  {
   "cell_type": "code",
   "execution_count": 139,
   "id": "f73f6d90",
   "metadata": {},
   "outputs": [
    {
     "data": {
      "text/plain": [
       "(-0.010460256696812961, 196.67652987289406)"
      ]
     },
     "execution_count": 139,
     "metadata": {},
     "output_type": "execute_result"
    }
   ],
   "source": [
    "X1 = data['HH'].values\n",
    "Y = data['Distance'].values\n",
    "\n",
    "meanX1 = np.mean(X1)\n",
    "meanY = np.mean(Y)\n",
    "\n",
    "n = 0\n",
    "d = 0\n",
    "\n",
    "for i in range(0, len(X1)):\n",
    "    n += (X1[i] - meanX1) * (Y[i] - meanY)\n",
    "    d += (X1[i] - meanX1) ** 2\n",
    "\n",
    "slope = n/d\n",
    "constant = meanY - (slope*meanX1)\n",
    "slope, constant"
   ]
  },
  {
   "cell_type": "code",
   "execution_count": 140,
   "id": "1d9fa3dc",
   "metadata": {},
   "outputs": [],
   "source": [
    "x1Max = np.max(X1)\n",
    "x1Min = np.min(X1) \n",
    "x = np.linspace(x1Min, x1Max)\n",
    "y = slope * x + constant"
   ]
  },
  {
   "cell_type": "code",
   "execution_count": 141,
   "id": "3d208a43",
   "metadata": {},
   "outputs": [
    {
     "data": {
      "image/png": "[encoded data removed]",
      "text/plain": [
       "<Figure size 432x288 with 1 Axes>"
      ]
     },
     "metadata": {
      "needs_background": "light"
     },
     "output_type": "display_data"
    }
   ],
   "source": [
    "plt.plot(x, y , color = 'green', label = 'regression line')\n",
    "plt.scatter(X1, Y, c = 'red', label= 'scatter data')\n",
    "plt.xlabel('hours')\n",
    "plt.ylabel('distance')\n",
    "plt.show()"
   ]
  },
  {
   "cell_type": "code",
   "execution_count": null,
   "id": "10770244",
   "metadata": {},
   "outputs": [],
   "source": []
  }
 ],
 "metadata": {
  "kernelspec": {
   "display_name": "Python 3 (ipykernel)",
   "language": "python",
   "name": "python3"
  },
  "language_info": {
   "codemirror_mode": {
    "name": "ipython",
    "version": 3
   },
   "file_extension": ".py",
   "mimetype": "text/x-python",
   "name": "python",
   "nbconvert_exporter": "python",
   "pygments_lexer": "ipython3",
   "version": "3.9.7"
  }
 },
 "nbformat": 4,
 "nbformat_minor": 5
}
