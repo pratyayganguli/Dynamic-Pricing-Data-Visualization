{
 "cells": [
  {
   "cell_type": "markdown",
   "id": "239fb98d",
   "metadata": {},
   "source": [
    "### Importing Libraries ###"
   ]
  },
  {
   "cell_type": "code",
   "execution_count": 217,
   "id": "26566482",
   "metadata": {},
   "outputs": [],
   "source": [
    "import numpy as np\n",
    "import pandas as pd\n",
    "import matplotlib.pyplot as plt\n",
    "import csv"
   ]
  },
  {
   "cell_type": "markdown",
   "id": "560425d6",
   "metadata": {},
   "source": [
    "### Importing the dataset ###\n",
    " __Note__  : Can be done form .csv files and from .sql files\n",
    " \n",
    "#### Converting into Pandas DataFrame Object ####\n",
    "\n",
    "**Example Datasets :**\n",
    "\n",
    "A.\n",
    "\n",
    "Months | Inflation Rate\n",
    "----------- |----------\n",
    "345 | 16.76\n",
    "\n",
    "B. \n",
    "\n",
    "_Name_ |Age | Distance Travelled\n",
    "-------|--- |-------------------\n",
    "Ramesh Singh |40 | 126\n",
    "\n",
    "C.\n",
    "\n",
    "Day |Time in Hrs | Boooking Frequency\n",
    "----|------------|--------------\n",
    "6| 9 | 2345\n"
   ]
  },
  {
   "cell_type": "code",
   "execution_count": 218,
   "id": "9145c651",
   "metadata": {},
   "outputs": [
    {
     "data": {
      "text/html": [
       "<div>\n",
       "<style scoped>\n",
       "    .dataframe tbody tr th:only-of-type {\n",
       "        vertical-align: middle;\n",
       "    }\n",
       "\n",
       "    .dataframe tbody tr th {\n",
       "        vertical-align: top;\n",
       "    }\n",
       "\n",
       "    .dataframe thead th {\n",
       "        text-align: right;\n",
       "    }\n",
       "</style>\n",
       "<table border=\"1\" class=\"dataframe\">\n",
       "  <thead>\n",
       "    <tr style=\"text-align: right;\">\n",
       "      <th></th>\n",
       "      <th>Months</th>\n",
       "      <th>Inflation Rate</th>\n",
       "    </tr>\n",
       "  </thead>\n",
       "  <tbody>\n",
       "    <tr>\n",
       "      <th>0</th>\n",
       "      <td>1.0</td>\n",
       "      <td>-0.143133</td>\n",
       "    </tr>\n",
       "    <tr>\n",
       "      <th>1</th>\n",
       "      <td>2.0</td>\n",
       "      <td>-0.475746</td>\n",
       "    </tr>\n",
       "    <tr>\n",
       "      <th>2</th>\n",
       "      <td>3.0</td>\n",
       "      <td>0.383202</td>\n",
       "    </tr>\n",
       "    <tr>\n",
       "      <th>3</th>\n",
       "      <td>4.0</td>\n",
       "      <td>-0.226587</td>\n",
       "    </tr>\n",
       "    <tr>\n",
       "      <th>4</th>\n",
       "      <td>5.0</td>\n",
       "      <td>-0.208016</td>\n",
       "    </tr>\n",
       "    <tr>\n",
       "      <th>...</th>\n",
       "      <td>...</td>\n",
       "      <td>...</td>\n",
       "    </tr>\n",
       "    <tr>\n",
       "      <th>235</th>\n",
       "      <td>236.0</td>\n",
       "      <td>16.963591</td>\n",
       "    </tr>\n",
       "    <tr>\n",
       "      <th>236</th>\n",
       "      <td>237.0</td>\n",
       "      <td>17.476709</td>\n",
       "    </tr>\n",
       "    <tr>\n",
       "      <th>237</th>\n",
       "      <td>238.0</td>\n",
       "      <td>18.012098</td>\n",
       "    </tr>\n",
       "    <tr>\n",
       "      <th>238</th>\n",
       "      <td>239.0</td>\n",
       "      <td>18.013173</td>\n",
       "    </tr>\n",
       "    <tr>\n",
       "      <th>239</th>\n",
       "      <td>240.0</td>\n",
       "      <td>17.557093</td>\n",
       "    </tr>\n",
       "  </tbody>\n",
       "</table>\n",
       "<p>240 rows × 2 columns</p>\n",
       "</div>"
      ],
      "text/plain": [
       "     Months  Inflation Rate\n",
       "0       1.0       -0.143133\n",
       "1       2.0       -0.475746\n",
       "2       3.0        0.383202\n",
       "3       4.0       -0.226587\n",
       "4       5.0       -0.208016\n",
       "..      ...             ...\n",
       "235   236.0       16.963591\n",
       "236   237.0       17.476709\n",
       "237   238.0       18.012098\n",
       "238   239.0       18.013173\n",
       "239   240.0       17.557093\n",
       "\n",
       "[240 rows x 2 columns]"
      ]
     },
     "execution_count": 218,
     "metadata": {},
     "output_type": "execute_result"
    }
   ],
   "source": [
    "file = open('../datasets/csv/inflation-data.csv', 'r')\n",
    "data = pd.read_csv(file)\n",
    "file.close()\n",
    "data = data.drop(data.columns[0], axis = 1)\n",
    "data"
   ]
  },
  {
   "cell_type": "markdown",
   "id": "47fa1afc",
   "metadata": {},
   "source": [
    "### Calculating the slope and constant forming the equation ###"
   ]
  },
  {
   "cell_type": "code",
   "execution_count": 219,
   "id": "f73f6d90",
   "metadata": {},
   "outputs": [
    {
     "data": {
      "text/plain": [
       "(0.0770193652329726, -3.626604378286074)"
      ]
     },
     "execution_count": 219,
     "metadata": {},
     "output_type": "execute_result"
    }
   ],
   "source": [
    "months = data['Months'].values\n",
    "inflation = data['Inflation Rate'].values\n",
    "\n",
    "meanMonths = np.mean(X1)\n",
    "meanInflation = np.mean(Y)\n",
    "\n",
    "n = 0\n",
    "d = 0\n",
    "\n",
    "for i in range(0, len(months)):\n",
    "    n += (months[i] - meanMonths) * (inflation[i] - meanInflation)\n",
    "    d += (months[i] - meanMonths) ** 2\n",
    "\n",
    "slope = n/d\n",
    "constant = meanInflation - (slope*meanMonths)\n",
    "slope, constant"
   ]
  },
  {
   "cell_type": "code",
   "execution_count": 220,
   "id": "1d9fa3dc",
   "metadata": {},
   "outputs": [],
   "source": [
    "monthsMax = np.max(months)\n",
    "monthsMin = np.min(months) \n",
    "x = np.linspace(monthsMin, monthsMax)\n",
    "y = slope * x + constant"
   ]
  },
  {
   "cell_type": "markdown",
   "id": "5b3a2e39",
   "metadata": {},
   "source": [
    "### Scatter plotting the data ###"
   ]
  },
  {
   "cell_type": "code",
   "execution_count": 221,
   "id": "3d208a43",
   "metadata": {},
   "outputs": [
    {
     "data": {
      "image/png": "[encoded data removed]",
      "text/plain": [
       "<Figure size 432x288 with 1 Axes>"
      ]
     },
     "metadata": {
      "needs_background": "light"
     },
     "output_type": "display_data"
    }
   ],
   "source": [
    "plt.plot(x, y , color = 'green', label = 'regression line')\n",
    "plt.scatter(X1, Y, c = 'red', label= 'scatter data')\n",
    "plt.xlabel('Months')\n",
    "plt.ylabel('Inflation')\n",
    "plt.legend\n",
    "plt.show()"
   ]
  },
  {
   "cell_type": "markdown",
   "id": "dd3d635f",
   "metadata": {},
   "source": [
    "### Sample Prediction ###\n",
    "\n",
    "**Input :**  Upcomming Months in Business\n",
    "\n",
    "**Output :** Prediction set of the inflation being hiked or minimised"
   ]
  },
  {
   "cell_type": "code",
   "execution_count": 222,
   "id": "498d414f",
   "metadata": {},
   "outputs": [
    {
     "data": {
      "text/plain": [
       "array([15.62823693, 16.39843058, 17.16862423, 17.93881789, 42.58501476])"
      ]
     },
     "execution_count": 222,
     "metadata": {},
     "output_type": "execute_result"
    }
   ],
   "source": [
    "sampleMonthSet = np.array([\n",
    "    250,\n",
    "    260,\n",
    "    270,\n",
    "    280,\n",
    "    600\n",
    "])\n",
    "\n",
    "predictInflationSet = np.array([])\n",
    "\n",
    "for i in range(0, len(sampleMonthSet)):\n",
    "    predictInflationSet = np.append(predictInflationSet, slope * sampleMonthSet[i] + constant)\n",
    "                                    \n",
    "predictInflationSet"
   ]
  },
  {
   "cell_type": "markdown",
   "id": "a2304963",
   "metadata": {},
   "source": [
    "### Mean R square method ###"
   ]
  },
  {
   "cell_type": "code",
   "execution_count": 223,
   "id": "10770244",
   "metadata": {},
   "outputs": [
    {
     "data": {
      "text/plain": [
       "0.8705174282531776"
      ]
     },
     "execution_count": 223,
     "metadata": {},
     "output_type": "execute_result"
    }
   ],
   "source": [
    "totalSumSq = 0\n",
    "totalSumSqResidual = 0\n",
    "\n",
    "for i in range(0, len(months)):\n",
    "    yPred = slope * months[i] + constant\n",
    "    totalSumSq += (inflation[i] - meanInflation) ** 2\n",
    "    totalSumSqResidual += (inflation[i] - yPred) ** 2\n",
    "\n",
    "R = 1 - (totalSumSqResidual/totalSumSq)\n",
    "R"
   ]
  }
 ],
 "metadata": {
  "kernelspec": {
   "display_name": "Python 3 (ipykernel)",
   "language": "python",
   "name": "python3"
  },
  "language_info": {
   "codemirror_mode": {
    "name": "ipython",
    "version": 3
   },
   "file_extension": ".py",
   "mimetype": "text/x-python",
   "name": "python",
   "nbconvert_exporter": "python",
   "pygments_lexer": "ipython3",
   "version": "3.9.7"
  }
 },
 "nbformat": 4,
 "nbformat_minor": 5
}
